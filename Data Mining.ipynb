{
 "cells": [
  {
   "cell_type": "code",
   "execution_count": 42,
   "id": "9971ce90",
   "metadata": {},
   "outputs": [],
   "source": [
    "import os\n",
    "import zipfile\n",
    "import pandas as pd\n",
    "import numpy as np\n",
    "import pydotplus\n",
    "import matplotlib.pyplot as plt\n",
    "from sklearn import metrics\n",
    "from skimage import io\n",
    "from sklearn import preprocessing\n",
    "from sklearn.preprocessing import OneHotEncoder\n",
    "from sklearn.model_selection import StratifiedShuffleSplit\n",
    "from sklearn.tree import DecisionTreeClassifier\n",
    "from sklearn.preprocessing import MinMaxScaler\n",
    "from sklearn.tree import export_graphviz\n",
    "from sklearn import tree \n",
    "from IPython.display import Image  \n",
    "from six import StringIO\n",
    "from sklearn.metrics import confusion_matrix, classification_report, RocCurveDisplay\n",
    "from sklearn.model_selection import cross_val_predict\n",
    "from sklearn.metrics import precision_score, recall_score, f1_score, accuracy_score\n",
    "\n",
    "%matplotlib inline"
   ]
  },
  {
   "cell_type": "code",
   "execution_count": 43,
   "id": "a842b403",
   "metadata": {},
   "outputs": [
    {
     "name": "stdout",
     "output_type": "stream",
     "text": [
      "  row ID Location  MinTemp  MaxTemp  Rainfall  Evaporation  Sunshine  \\\n",
      "0   Row0   Albury     13.4     22.9       0.6          NaN       NaN   \n",
      "1   Row1   Albury      7.4     25.1       0.0          NaN       NaN   \n",
      "2   Row2   Albury     17.5     32.3       1.0          NaN       NaN   \n",
      "3   Row3   Albury     14.6     29.7       0.2          NaN       NaN   \n",
      "4   Row4   Albury      7.7     26.7       0.0          NaN       NaN   \n",
      "\n",
      "  WindGustDir  WindGustSpeed WindDir9am  ... Humidity9am  Humidity3pm  \\\n",
      "0           W           44.0          W  ...        71.0         22.0   \n",
      "1         WNW           44.0        NNW  ...        44.0         25.0   \n",
      "2           W           41.0        ENE  ...        82.0         33.0   \n",
      "3         WNW           56.0          W  ...        55.0         23.0   \n",
      "4           W           35.0        SSE  ...        48.0         19.0   \n",
      "\n",
      "   Pressure9am  Pressure3pm  Cloud9am  Cloud3pm  Temp9am  Temp3pm  RainToday  \\\n",
      "0       1007.7       1007.1       8.0       NaN     16.9     21.8         No   \n",
      "1       1010.6       1007.8       NaN       NaN     17.2     24.3         No   \n",
      "2       1010.8       1006.0       7.0       8.0     17.8     29.7         No   \n",
      "3       1009.2       1005.4       NaN       NaN     20.6     28.9         No   \n",
      "4       1013.4       1010.1       NaN       NaN     16.3     25.5         No   \n",
      "\n",
      "   RainTomorrow  \n",
      "0             0  \n",
      "1             0  \n",
      "2             0  \n",
      "3             0  \n",
      "4             0  \n",
      "\n",
      "[5 rows x 23 columns]\n",
      "Total number of entries: 99516\n",
      "Total number of attribues: 23\n"
     ]
    }
   ],
   "source": [
    "DIRECT = os.getcwd()\n",
    "\n",
    "# Store your training zip folder in the lauched jupyter notebook's folder.\n",
    "def fetch_data(zip_path, new = DIRECT):\n",
    "    PATH = os.path.join(DIRECT, zip_path)\n",
    "    with zipfile.ZipFile(PATH, 'r') as temp:\n",
    "        temp.extractall(new)\n",
    "        \n",
    "# Method to load cvs data and display it with the pandas library.\n",
    "def load_data(file_path, root_path = DIRECT):\n",
    "    cvs_path = os.path.join(root_path, file_path)\n",
    "    return pd.read_csv(cvs_path)\n",
    "\n",
    "fetch_data(\"archive.zip\")\n",
    "data = load_data(\"Weather Training Data.csv\")\n",
    "\n",
    "print(data.head())\n",
    "print(\"Total number of entries:\",len(data))\n",
    "print(\"Total number of attribues:\", len(data.columns))"
   ]
  },
  {
   "cell_type": "code",
   "execution_count": 44,
   "id": "32a2c8f9",
   "metadata": {},
   "outputs": [
    {
     "name": "stdout",
     "output_type": "stream",
     "text": [
      "   MinTemp  MaxTemp  Rainfall  Evaporation  Sunshine WindGustDir  \\\n",
      "0     13.4     22.9       0.6          NaN       NaN           W   \n",
      "1      7.4     25.1       0.0          NaN       NaN         WNW   \n",
      "2     17.5     32.3       1.0          NaN       NaN           W   \n",
      "3     14.6     29.7       0.2          NaN       NaN         WNW   \n",
      "4      7.7     26.7       0.0          NaN       NaN           W   \n",
      "\n",
      "   WindGustSpeed WindDir9am WindDir3pm  WindSpeed9am  WindSpeed3pm  \\\n",
      "0           44.0          W        WNW          20.0          24.0   \n",
      "1           44.0        NNW        WSW           4.0          22.0   \n",
      "2           41.0        ENE         NW           7.0          20.0   \n",
      "3           56.0          W          W          19.0          24.0   \n",
      "4           35.0        SSE          W           6.0          17.0   \n",
      "\n",
      "   Humidity9am  Humidity3pm  Pressure9am  Pressure3pm  Cloud9am  Cloud3pm  \\\n",
      "0         71.0         22.0       1007.7       1007.1       8.0       NaN   \n",
      "1         44.0         25.0       1010.6       1007.8       NaN       NaN   \n",
      "2         82.0         33.0       1010.8       1006.0       7.0       8.0   \n",
      "3         55.0         23.0       1009.2       1005.4       NaN       NaN   \n",
      "4         48.0         19.0       1013.4       1010.1       NaN       NaN   \n",
      "\n",
      "   Temp9am  Temp3pm RainToday  \n",
      "0     16.9     21.8        No  \n",
      "1     17.2     24.3        No  \n",
      "2     17.8     29.7        No  \n",
      "3     20.6     28.9        No  \n",
      "4     16.3     25.5        No  \n",
      "Total number of entries: 99516\n",
      "Total number of attribues: 20\n"
     ]
    }
   ],
   "source": [
    "# Copy our data and drop any unneccesary attributes for features. Store in a separate dataframe.\n",
    "copy_data = data.copy()\n",
    "features = copy_data.drop(\"row ID\", axis=1).drop(\"Location\", axis=1).drop(\"RainTomorrow\", axis=1)\n",
    "features = pd.DataFrame(features)\n",
    "\n",
    "print(features.head())\n",
    "print(\"Total number of entries:\",len(features))\n",
    "print(\"Total number of attribues:\", len(features.columns))"
   ]
  },
  {
   "cell_type": "code",
   "execution_count": 45,
   "id": "6b57174d",
   "metadata": {
    "scrolled": true
   },
   "outputs": [
    {
     "name": "stdout",
     "output_type": "stream",
     "text": [
      "['MinTemp', 'MaxTemp', 'Rainfall', 'Evaporation', 'Sunshine', 'WindGustDir', 'WindGustSpeed', 'WindDir9am', 'WindDir3pm', 'WindSpeed9am', 'WindSpeed3pm', 'Humidity9am', 'Humidity3pm', 'Pressure9am', 'Pressure3pm', 'Cloud9am', 'Cloud3pm', 'Temp9am', 'Temp3pm', 'RainToday']\n"
     ]
    }
   ],
   "source": [
    "list_of_feature_names = [features.columns[x] for x in range(len(features.columns))]\n",
    "print(list_of_feature_names)"
   ]
  },
  {
   "cell_type": "code",
   "execution_count": 46,
   "id": "ccc07a79",
   "metadata": {},
   "outputs": [
    {
     "name": "stdout",
     "output_type": "stream",
     "text": [
      "   MinTemp  MaxTemp  Rainfall  Evaporation  Sunshine  WindGustDir  \\\n",
      "0     13.4     22.9       0.6          NaN       NaN           13   \n",
      "1      7.4     25.1       0.0          NaN       NaN           14   \n",
      "2     17.5     32.3       1.0          NaN       NaN           13   \n",
      "3     14.6     29.7       0.2          NaN       NaN           14   \n",
      "4      7.7     26.7       0.0          NaN       NaN           13   \n",
      "\n",
      "   WindGustSpeed  WindDir9am  WindDir3pm  WindSpeed9am  WindSpeed3pm  \\\n",
      "0           44.0          13          14          20.0          24.0   \n",
      "1           44.0           6          15           4.0          22.0   \n",
      "2           41.0           1           7           7.0          20.0   \n",
      "3           56.0          13          13          19.0          24.0   \n",
      "4           35.0          10          13           6.0          17.0   \n",
      "\n",
      "   Humidity9am  Humidity3pm  Pressure9am  Pressure3pm  Cloud9am  Cloud3pm  \\\n",
      "0         71.0         22.0       1007.7       1007.1       8.0       NaN   \n",
      "1         44.0         25.0       1010.6       1007.8       NaN       NaN   \n",
      "2         82.0         33.0       1010.8       1006.0       7.0       8.0   \n",
      "3         55.0         23.0       1009.2       1005.4       NaN       NaN   \n",
      "4         48.0         19.0       1013.4       1010.1       NaN       NaN   \n",
      "\n",
      "   Temp9am  Temp3pm  RainToday  \n",
      "0     16.9     21.8          0  \n",
      "1     17.2     24.3          0  \n",
      "2     17.8     29.7          0  \n",
      "3     20.6     28.9          0  \n",
      "4     16.3     25.5          0  \n",
      "Total number of entries: 99516\n",
      "Total number of attribues: 20\n"
     ]
    }
   ],
   "source": [
    "# Preprocess the features with LabelEncoder() for the features dataframe.\n",
    "def preprocess_features_column(col):\n",
    "    temp = features[col]\n",
    "    le = preprocessing.LabelEncoder()\n",
    "    le.fit(temp)\n",
    "    new = le.transform(temp)\n",
    "    return new\n",
    "\n",
    "# List of attributes that need to be converted to int values.\n",
    "list_of_col = [\"WindGustDir\", \"WindDir9am\", \"WindDir3pm\", \"RainToday\"]\n",
    "\n",
    "# For every index in list_of_col, pass through the preprocess_features_column function.\n",
    "for x in range(len(list_of_col)):\n",
    "    col = preprocess_features_column(list_of_col[x])\n",
    "    features[list_of_col[x]] = pd.DataFrame(col)\n",
    "\n",
    "print(features.head())\n",
    "print(\"Total number of entries:\",len(features))\n",
    "print(\"Total number of attribues:\", len(features.columns))"
   ]
  },
  {
   "cell_type": "code",
   "execution_count": 47,
   "id": "6ffa9a34",
   "metadata": {
    "scrolled": true
   },
   "outputs": [
    {
     "name": "stdout",
     "output_type": "stream",
     "text": [
      "         0         1         2    3    4       5         6       7       8   \\\n",
      "0  0.516509  0.517241  0.001617  0.0  0.0  0.8125  0.294574  0.8125  0.8750   \n",
      "1  0.375000  0.559387  0.000000  0.0  0.0  0.8750  0.294574  0.3750  0.9375   \n",
      "2  0.613208  0.697318  0.002695  0.0  0.0  0.8125  0.271318  0.0625  0.4375   \n",
      "3  0.544811  0.647510  0.000539  0.0  0.0  0.8750  0.387597  0.8125  0.8125   \n",
      "4  0.382075  0.590038  0.000000  0.0  0.0  0.8125  0.224806  0.6250  0.8125   \n",
      "\n",
      "         9         10    11    12        13        14        15        16  \\\n",
      "0  0.153846  0.275862  0.71  0.22  0.449587  0.470684  0.888889  0.000000   \n",
      "1  0.030769  0.252874  0.44  0.25  0.497521  0.482085  0.000000  0.000000   \n",
      "2  0.053846  0.229885  0.82  0.33  0.500826  0.452769  0.777778  0.888889   \n",
      "3  0.146154  0.275862  0.55  0.23  0.474380  0.442997  0.000000  0.000000   \n",
      "4  0.046154  0.195402  0.48  0.19  0.543802  0.519544  0.000000  0.000000   \n",
      "\n",
      "         17        18   19  \n",
      "0  0.506356  0.519305  0.0  \n",
      "1  0.512712  0.567568  0.0  \n",
      "2  0.525424  0.671815  0.0  \n",
      "3  0.584746  0.656371  0.0  \n",
      "4  0.493644  0.590734  0.0  \n",
      "Total number of entries: 99516\n",
      "Total number of attribues: 20\n"
     ]
    }
   ],
   "source": [
    "# Rescale everything to be between 0 and 1.\n",
    "scaler = MinMaxScaler()\n",
    "temp = pd.DataFrame(scaler.fit_transform(features))\n",
    "\n",
    "# If a value is nan, set it to 0.\n",
    "for x in range(len(temp)):\n",
    "    for y in range(len(temp.columns)):\n",
    "        if not(temp[y][x] > 0):\n",
    "            temp[y][x] = 0\n",
    "\n",
    "            \n",
    "features = temp.copy() # Copy new dataframe.\n",
    "\n",
    "print(features.head())\n",
    "print(\"Total number of entries:\",len(features))\n",
    "print(\"Total number of attribues:\", len(features.columns))"
   ]
  },
  {
   "cell_type": "code",
   "execution_count": 48,
   "id": "ef4a8264",
   "metadata": {},
   "outputs": [
    {
     "name": "stdout",
     "output_type": "stream",
     "text": [
      "   RainTomorrow\n",
      "0             0\n",
      "1             0\n",
      "2             0\n",
      "3             0\n",
      "4             0\n",
      "Total number of entries: 99516\n",
      "Total number of attribues: 1\n"
     ]
    }
   ],
   "source": [
    "# Separate the labels data from the copy_data. Store in a separate dataframe.\n",
    "labels = copy_data[\"RainTomorrow\"]\n",
    "labels = pd.DataFrame(labels)\n",
    "\n",
    "print(labels.head())\n",
    "print(\"Total number of entries:\",len(labels))\n",
    "print(\"Total number of attribues:\", len(labels.columns))"
   ]
  },
  {
   "cell_type": "code",
   "execution_count": 49,
   "id": "ee1284b7",
   "metadata": {},
   "outputs": [
    {
     "name": "stdout",
     "output_type": "stream",
     "text": [
      "['RainTomorrow']\n"
     ]
    }
   ],
   "source": [
    "list_of_class_names = [labels.columns[x] for x in range(len(labels.columns))]\n",
    "print(list_of_class_names)"
   ]
  },
  {
   "cell_type": "code",
   "execution_count": 50,
   "id": "10a9a758",
   "metadata": {},
   "outputs": [
    {
     "name": "stdout",
     "output_type": "stream",
     "text": [
      "Total number of entries in X_train_full: 79612\n",
      "Total number of entries in y_train_full: 79612\n",
      "Total number of entries in X_test: 19904\n",
      "Total number of entries in y_test: 19904\n"
     ]
    }
   ],
   "source": [
    "# Stratified splitting the features and labels data into a training and testing.\n",
    "split = StratifiedShuffleSplit(n_splits=1, test_size=0.2, random_state=20)\n",
    "for train_index, test_index in split.split(features, labels):\n",
    "    X_train_full, y_train_full = features.loc[train_index], labels.loc[train_index]\n",
    "    X_test, y_test = features.loc[test_index], labels.loc[test_index]\n",
    "    \n",
    "print(\"Total number of entries in X_train_full:\", len(X_train_full))\n",
    "print(\"Total number of entries in y_train_full:\", len(y_train_full))\n",
    "print(\"Total number of entries in X_test:\", len(X_test))\n",
    "print(\"Total number of entries in y_test:\", len(y_test))"
   ]
  },
  {
   "cell_type": "code",
   "execution_count": 51,
   "id": "daba89b3",
   "metadata": {},
   "outputs": [
    {
     "name": "stdout",
     "output_type": "stream",
     "text": [
      "Total number of entries in X_train: 63689\n",
      "Total number of entries in X_valid: 15923\n",
      "Total number of entries in y_train: 63689\n",
      "Total number of entries in y_valid: 15923\n"
     ]
    }
   ],
   "source": [
    "# Separate 80% of the train_full datasets for training ([0%, 80%]) and 20% for validation ([80%, 100%]).\n",
    "X_train, X_valid = X_train_full[:int(len(X_train_full)*.8)], X_train_full[int(len(X_train_full)*.8):]\n",
    "y_train, y_valid = y_train_full[:int(len(y_train_full)*.8)], y_train_full[int(len(y_train_full)*.8):]\n",
    "\n",
    "print(\"Total number of entries in X_train:\", len(X_train))\n",
    "print(\"Total number of entries in X_valid:\", len(X_valid))\n",
    "print(\"Total number of entries in y_train:\", len(y_train))\n",
    "print(\"Total number of entries in y_valid:\", len(y_valid))"
   ]
  },
  {
   "cell_type": "code",
   "execution_count": 52,
   "id": "79897843",
   "metadata": {},
   "outputs": [
    {
     "name": "stdout",
     "output_type": "stream",
     "text": [
      "Training Accuracy: 0.8326969453376206\n"
     ]
    }
   ],
   "source": [
    "# Train a Decision Tree w/ a set max_depth w/ the fitted datasets, Training.\n",
    "tree_clf = DecisionTreeClassifier(max_depth=4)\n",
    "tree_clf.fit(X_train, y_train)\n",
    "\n",
    "# Accuracy evalution.\n",
    "y_pred = tree_clf.predict(X_test)\n",
    "print(\"Training Accuracy:\", accuracy_score(y_test, y_pred))"
   ]
  },
  {
   "cell_type": "code",
   "execution_count": 53,
   "id": "d454c050",
   "metadata": {
    "scrolled": false
   },
   "outputs": [
    {
     "name": "stdout",
     "output_type": "stream",
     "text": [
      "[[14567   865]\n",
      " [ 2465  2007]]\n"
     ]
    },
    {
     "data": {
      "image/png": "[encoded data removed]",
      "text/plain": [
       "<Figure size 288x288 with 1 Axes>"
      ]
     },
     "metadata": {
      "needs_background": "light"
     },
     "output_type": "display_data"
    }
   ],
   "source": [
    "# Create and display the confusion matrix for the Training datasets.\n",
    "conf_mx = confusion_matrix(y_test, y_pred)\n",
    "print(conf_mx)\n",
    "\n",
    "plt.matshow(conf_mx, cmap=plt.cm.gray)\n",
    "plt.show()"
   ]
  },
  {
   "cell_type": "code",
   "execution_count": 54,
   "id": "8a3f4565",
   "metadata": {},
   "outputs": [
    {
     "name": "stdout",
     "output_type": "stream",
     "text": [
      "Precision: 0.699\n",
      "Recall: 0.449\n",
      "F-Score: 0.547\n"
     ]
    },
    {
     "data": {
      "image/png": "[encoded data removed]",
      "text/plain": [
       "<Figure size 432x288 with 1 Axes>"
      ]
     },
     "metadata": {
      "needs_background": "light"
     },
     "output_type": "display_data"
    }
   ],
   "source": [
    "roc_train = RocCurveDisplay.from_estimator(tree_clf, X_test, y_test)\n",
    "print('Precision: %.3f' % precision_score(y_test, y_pred))\n",
    "print('Recall: %.3f' % recall_score(y_test, y_pred))\n",
    "print('F-Score: %.3f' % f1_score(y_test, y_pred))"
   ]
  },
  {
   "cell_type": "code",
   "execution_count": 55,
   "id": "126b60f3",
   "metadata": {},
   "outputs": [],
   "source": [
    "# Create and store a .dot file containing the entire decision tree generated for Training.\n",
    "PATH = os.path.join(DIRECT, \"training_tree.dot\")\n",
    "\n",
    "tree.export_graphviz(tree_clf, out_file=PATH, feature_names=list_of_feature_names)"
   ]
  },
  {
   "cell_type": "code",
   "execution_count": 56,
   "id": "653dc745",
   "metadata": {
    "scrolled": true
   },
   "outputs": [
    {
     "name": "stdout",
     "output_type": "stream",
     "text": [
      "Validation Accuracy: 0.828878617363344\n"
     ]
    }
   ],
   "source": [
    "# Train a Decision Tree w/ a set max_depth w/ the fitted datasets, Training.\n",
    "tree_clf = DecisionTreeClassifier(max_depth=4)\n",
    "tree_clf.fit(X_valid, y_valid)\n",
    "\n",
    "y_pred = tree_clf.predict(X_test)\n",
    "print(\"Validation Accuracy:\", accuracy_score(y_test, y_pred))"
   ]
  },
  {
   "cell_type": "code",
   "execution_count": 57,
   "id": "b116362d",
   "metadata": {},
   "outputs": [
    {
     "name": "stdout",
     "output_type": "stream",
     "text": [
      "[[14359  1073]\n",
      " [ 2333  2139]]\n"
     ]
    },
    {
     "data": {
      "image/png": "[encoded data removed]",
      "text/plain": [
       "<Figure size 288x288 with 1 Axes>"
      ]
     },
     "metadata": {
      "needs_background": "light"
     },
     "output_type": "display_data"
    }
   ],
   "source": [
    "# Create and display the confusion matrix for the Validation datasets.\n",
    "conf_mx = confusion_matrix(y_test, y_pred)\n",
    "print(conf_mx)\n",
    "\n",
    "plt.matshow(conf_mx, cmap=plt.cm.gray)\n",
    "plt.show()"
   ]
  },
  {
   "cell_type": "code",
   "execution_count": 58,
   "id": "3b043615",
   "metadata": {},
   "outputs": [
    {
     "name": "stdout",
     "output_type": "stream",
     "text": [
      "Precision: 0.666\n",
      "Recall: 0.478\n",
      "F-Score: 0.557\n"
     ]
    },
    {
     "data": {
      "image/png": "[encoded data removed]",
      "text/plain": [
       "<Figure size 432x288 with 1 Axes>"
      ]
     },
     "metadata": {
      "needs_background": "light"
     },
     "output_type": "display_data"
    }
   ],
   "source": [
    "roc_train = RocCurveDisplay.from_estimator(tree_clf, X_test, y_test)\n",
    "print('Precision: %.3f' % precision_score(y_test, y_pred))\n",
    "print('Recall: %.3f' % recall_score(y_test, y_pred))\n",
    "print('F-Score: %.3f' % f1_score(y_test, y_pred))"
   ]
  },
  {
   "cell_type": "code",
   "execution_count": 59,
   "id": "4dd83e16",
   "metadata": {},
   "outputs": [],
   "source": [
    "# Create and store a .dot file containing the entire decision tree generated for Validation.\n",
    "PATH = os.path.join(DIRECT, \"validation_tree.dot\")\n",
    "\n",
    "tree.export_graphviz(tree_clf, out_file=PATH, feature_names=list_of_feature_names)"
   ]
  },
  {
   "cell_type": "code",
   "execution_count": null,
   "id": "41d97ee4",
   "metadata": {},
   "outputs": [],
   "source": []
  }
 ],
 "metadata": {
  "kernelspec": {
   "display_name": "Python 3 (ipykernel)",
   "language": "python",
   "name": "python3"
  },
  "language_info": {
   "codemirror_mode": {
    "name": "ipython",
    "version": 3
   },
   "file_extension": ".py",
   "mimetype": "text/x-python",
   "name": "python",
   "nbconvert_exporter": "python",
   "pygments_lexer": "ipython3",
   "version": "3.9.11"
  }
 },
 "nbformat": 4,
 "nbformat_minor": 5
}
